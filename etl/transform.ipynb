{
 "cells": [
  {
   "cell_type": "markdown",
   "id": "322ee22c862ff01f",
   "metadata": {},
   "source": [
    "> **TODO – Data Engineer**\n",
    "> Populate this notebook so it reads XPTs in `data/raw/` and writes the four CSVs listed below.\n",
    "> Until then `make etl` will skip the transform step with a warning."
   ]
  }
 ],
 "metadata": {
  "language_info": {
   "codemirror_mode": {
    "name": "ipython",
    "version": 3
   },
   "file_extension": ".py",
   "mimetype": "text/x-python",
   "name": "python",
   "nbconvert_exporter": "python",
   "pygments_lexer": "ipython3",
   "version": "3.11.8"
  }
 },
 "nbformat": 4,
 "nbformat_minor": 5
}
