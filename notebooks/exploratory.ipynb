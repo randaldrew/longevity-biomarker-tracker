{
 "cells": [
  {
   "metadata": {},
   "cell_type": "markdown",
   "source": [
    "# NHANES Data Transformation\n",
    "\n",
    "This notebook will transform raw NHANES XPT files into clean CSVs for database loading.\n",
    "\n",
    "## Expected Output Files:\n",
    "- `data/clean/users.csv`: User information with columns (UserID, SEQN, BirthDate, Sex, RaceEthnicity)\n",
    "- `data/clean/sessions.csv`: Session information with columns (SessionID, UserID, SessionDate, FastingStatus)\n",
    "- `data/clean/measurements.csv`: Biomarker measurements with columns (MeasurementID, SessionID, BiomarkerID, Value, TakenAt)\n",
    "- `data/clean/reference_ranges.csv`: Reference ranges with columns (RangeID, BiomarkerID, RangeType, Sex, AgeMin, AgeMax, MinVal, MaxVal)"
   ],
   "id": "fe02bdddb376a716"
  }
 ],
 "metadata": {},
 "nbformat": 4,
 "nbformat_minor": 5
}
